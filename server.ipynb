{
 "cells": [
  {
   "cell_type": "markdown",
   "metadata": {},
   "source": [
    "# Flask REST API in Jupyter runs as a Server"
   ]
  },
  {
   "cell_type": "code",
   "execution_count": 1,
   "metadata": {},
   "outputs": [],
   "source": [
    "from flask import Flask, request  # import main Flask class and request object\n",
    "import random"
   ]
  },
  {
   "cell_type": "code",
   "execution_count": 2,
   "metadata": {},
   "outputs": [],
   "source": [
    "app1 = Flask(__name__)  # create the Flask app"
   ]
  },
  {
   "cell_type": "code",
   "execution_count": 3,
   "metadata": {},
   "outputs": [],
   "source": [
    "@app1.route('/status', methods=['GET'])\n",
    "def a_live():\n",
    "    return \"Alive!\""
   ]
  },
  {
   "cell_type": "code",
   "execution_count": 4,
   "metadata": {},
   "outputs": [],
   "source": [
    "@app1.route('/predict', methods=['GET'])\n",
    "def predict():\n",
    "    demo=random.randint(2000, 5000)    \n",
    "    return str(demo)"
   ]
  },
  {
   "cell_type": "code",
   "execution_count": null,
   "metadata": {},
   "outputs": [
    {
     "name": "stdout",
     "output_type": "stream",
     "text": [
      " * Serving Flask app \"__main__\" (lazy loading)\n",
      " * Environment: production\n",
      "\u001b[31m   WARNING: This is a development server. Do not use it in a production deployment.\u001b[0m\n",
      "\u001b[2m   Use a production WSGI server instead.\u001b[0m\n",
      " * Debug mode: off\n"
     ]
    },
    {
     "name": "stderr",
     "output_type": "stream",
     "text": [
      " * Running on http://127.0.0.1:5000/ (Press CTRL+C to quit)\n",
      "127.0.0.1 - - [10/May/2023 11:03:48] \"GET / HTTP/1.1\" 404 -\n",
      "127.0.0.1 - - [10/May/2023 11:03:48] \"GET /favicon.ico HTTP/1.1\" 404 -\n",
      "127.0.0.1 - - [10/May/2023 11:04:00] \"GET /status HTTP/1.1\" 200 -\n",
      "127.0.0.1 - - [10/May/2023 11:04:43] \"GET /predict HTTP/1.1\" 200 -\n",
      "127.0.0.1 - - [10/May/2023 11:04:52] \"GET /predict HTTP/1.1\" 200 -\n",
      "127.0.0.1 - - [10/May/2023 11:04:53] \"GET /predict HTTP/1.1\" 200 -\n",
      "127.0.0.1 - - [10/May/2023 11:04:53] \"GET /predict HTTP/1.1\" 200 -\n",
      "127.0.0.1 - - [10/May/2023 11:04:54] \"GET /predict HTTP/1.1\" 200 -\n",
      "127.0.0.1 - - [10/May/2023 11:04:54] \"GET /predict HTTP/1.1\" 200 -\n",
      "127.0.0.1 - - [10/May/2023 11:05:05] \"GET /predict HTTP/1.1\" 200 -\n",
      "127.0.0.1 - - [10/May/2023 11:05:06] \"GET /predict HTTP/1.1\" 200 -\n",
      "127.0.0.1 - - [10/May/2023 11:05:07] \"GET /predict HTTP/1.1\" 200 -\n",
      "127.0.0.1 - - [10/May/2023 11:05:08] \"GET /predict HTTP/1.1\" 200 -\n",
      "127.0.0.1 - - [10/May/2023 11:05:09] \"GET /predict HTTP/1.1\" 200 -\n",
      "127.0.0.1 - - [10/May/2023 11:05:10] \"GET /predict HTTP/1.1\" 200 -\n"
     ]
    }
   ],
   "source": [
    "app1.run(port=5000)  # run app in debug mode on port 5000"
   ]
  },
  {
   "cell_type": "code",
   "execution_count": null,
   "metadata": {},
   "outputs": [],
   "source": []
  }
 ],
 "metadata": {
  "kernelspec": {
   "display_name": "Python 3 (ipykernel)",
   "language": "python",
   "name": "python3"
  },
  "language_info": {
   "codemirror_mode": {
    "name": "ipython",
    "version": 3
   },
   "file_extension": ".py",
   "mimetype": "text/x-python",
   "name": "python",
   "nbconvert_exporter": "python",
   "pygments_lexer": "ipython3",
   "version": "3.9.7"
  }
 },
 "nbformat": 4,
 "nbformat_minor": 2
}
